{
 "cells": [
  {
   "cell_type": "markdown",
   "metadata": {},
   "source": [
    "# Getting started: Python Project Ecosystem\n",
    "- Installing conda (distributed with anaconda)\n",
    "- Installing conda environment (*19ws-visualanalytics*)\n",
    "- Installing conda environment as a jupyter kernel\n",
    "- Starting a jupyter notebook within the environment"
   ]
  },
  {
   "cell_type": "markdown",
   "metadata": {},
   "source": [
    "# Conda\n",
    "The easiest way to install conda is via installing Anaconda.\n",
    "See instructions at [anaconda.com](https://www.anaconda.com/distribution/)\n",
    "It is recommended to use Python 3.7 and above as of 2019.\n",
    "The direct installation package of anaconda can be found [here](https://repo.anaconda.com/archive/Anaconda3-2019.07-MacOSX-x86_64.pkg) as of 07/2019.\n",
    "\n",
    "* getting started with conda: https://bit.ly/tryconda\n",
    "* a conda cheatsheet can be found [here (*conda-cheatsheet.pdf*)](conda-cheatsheet.pdf)"
   ]
  },
  {
   "cell_type": "markdown",
   "metadata": {},
   "source": [
    "# Local environment\n",
    "- install the environment with ``conda env create -f environment.yml``. The environment contains jupyter notebook, pandas, seaborn and some more python packages we are going to work with\n",
    "- activate the environment with ``conda activate 19ws-visualanalytics``\n",
    "- within the **activated** environment you should make it available to jupyter as a kernel. This way you can start different notebooks with different kernels - which might have different python versions or package versions running! Register the kernel with ``python -m ipykernel install --user --name 19ws-visualanalytics --display-name \"Python (19ws-visualanalytics)\"``\n",
    "- now you can start the jupyter notebook within your local *19ws-visualanalytics*-enviroment: ``jupyter notebook``. Have a look at this [documentation](https://jupyter-notebook-beginner-guide.readthedocs.io/en/latest/) for an introduction to use jupyter notebooks.\n",
    "- If you install a new package, you might add an entry to the *environment.yml*! Updating your environment from the new description within this file is as easy as running ``conda env update`` within your current activated environment\n",
    "- You can deactivate the local enviroment with ``conda deactivate`` (then your default/root anaconda environment applies)"
   ]
  },
  {
   "cell_type": "markdown",
   "metadata": {},
   "source": [
    "# Git\n",
    "* Install ``apt install git`` (or have a look at https://www.atlassian.com/git/tutorials/install-git )\n",
    "* Introduction to git: https://git-scm.com/docs/gittutorial\n",
    "* Use git for your projects, either with https://fimgit.fim.uni-passau.de , with gitlab.com or with github.com\n",
    "* Find a git cheatsheet [here (*git-cheatsheet.pdf*)](git-cheatsheet.pdf)\n",
    "* There are nice GUI clients for Windows & Mac, e.g. https://www.sourcetreeapp.com/\n",
    "* You are often most effective using git in command line (linux)"
   ]
  },
  {
   "cell_type": "code",
   "execution_count": null,
   "metadata": {},
   "outputs": [],
   "source": []
  }
 ],
 "metadata": {
  "kernelspec": {
   "display_name": "Python (19ws-visualanalytics)",
   "language": "python",
   "name": "19ws-visualanalytics"
  },
  "language_info": {
   "codemirror_mode": {
    "name": "ipython",
    "version": 3
   },
   "file_extension": ".py",
   "mimetype": "text/x-python",
   "name": "python",
   "nbconvert_exporter": "python",
   "pygments_lexer": "ipython3",
   "version": "3.7.4"
  }
 },
 "nbformat": 4,
 "nbformat_minor": 2
}
